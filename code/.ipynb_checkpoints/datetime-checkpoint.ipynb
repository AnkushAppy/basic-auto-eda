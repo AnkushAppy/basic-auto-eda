{
 "cells": [
  {
   "cell_type": "code",
   "execution_count": 144,
   "metadata": {},
   "outputs": [
    {
     "data": {
      "text/html": [
       "<div>\n",
       "<style scoped>\n",
       "    .dataframe tbody tr th:only-of-type {\n",
       "        vertical-align: middle;\n",
       "    }\n",
       "\n",
       "    .dataframe tbody tr th {\n",
       "        vertical-align: top;\n",
       "    }\n",
       "\n",
       "    .dataframe thead th {\n",
       "        text-align: right;\n",
       "    }\n",
       "</style>\n",
       "<table border=\"1\" class=\"dataframe\">\n",
       "  <thead>\n",
       "    <tr style=\"text-align: right;\">\n",
       "      <th></th>\n",
       "      <th>Order_Code</th>\n",
       "      <th>Customer_Id</th>\n",
       "      <th>Customer_Type</th>\n",
       "      <th>Ordering Channel</th>\n",
       "      <th>City</th>\n",
       "      <th>State</th>\n",
       "      <th>Order Date</th>\n",
       "      <th>Payment_Method</th>\n",
       "      <th>No of BEDS Category</th>\n",
       "      <th>No of OUTDOOR Categories</th>\n",
       "      <th>...</th>\n",
       "      <th>No of DINING categories</th>\n",
       "      <th>No of LIVING ESSENTIALS cateogries</th>\n",
       "      <th>No of STUDY categories</th>\n",
       "      <th>No of WARDROBES categories</th>\n",
       "      <th>No of BEDROOM - OTHERS Categories</th>\n",
       "      <th>No of KIDS categories</th>\n",
       "      <th>Sales Amount</th>\n",
       "      <th>Discount</th>\n",
       "      <th>Pre_Order</th>\n",
       "      <th>Order Status</th>\n",
       "    </tr>\n",
       "  </thead>\n",
       "  <tbody>\n",
       "    <tr>\n",
       "      <th>0</th>\n",
       "      <td>403-7383748-7989122</td>\n",
       "      <td>1957066</td>\n",
       "      <td>NEW</td>\n",
       "      <td>Amazon</td>\n",
       "      <td>Noida</td>\n",
       "      <td>Uttar Pradesh</td>\n",
       "      <td>12-07-2017</td>\n",
       "      <td>Amazon:Prepaid</td>\n",
       "      <td>0</td>\n",
       "      <td>0</td>\n",
       "      <td>...</td>\n",
       "      <td>0</td>\n",
       "      <td>0</td>\n",
       "      <td>1</td>\n",
       "      <td>0</td>\n",
       "      <td>0</td>\n",
       "      <td>0</td>\n",
       "      <td>3999</td>\n",
       "      <td>0</td>\n",
       "      <td>False</td>\n",
       "      <td>DELIVERED</td>\n",
       "    </tr>\n",
       "    <tr>\n",
       "      <th>1</th>\n",
       "      <td>403-7436571-3457943</td>\n",
       "      <td>1808896</td>\n",
       "      <td>NEW</td>\n",
       "      <td>Amazon</td>\n",
       "      <td>Bangalore</td>\n",
       "      <td>Karnataka</td>\n",
       "      <td>11-04-2017</td>\n",
       "      <td>Amazon:Prepaid</td>\n",
       "      <td>0</td>\n",
       "      <td>0</td>\n",
       "      <td>...</td>\n",
       "      <td>3</td>\n",
       "      <td>0</td>\n",
       "      <td>0</td>\n",
       "      <td>0</td>\n",
       "      <td>0</td>\n",
       "      <td>0</td>\n",
       "      <td>29997</td>\n",
       "      <td>0</td>\n",
       "      <td>False</td>\n",
       "      <td>DELIVERED</td>\n",
       "    </tr>\n",
       "    <tr>\n",
       "      <th>2</th>\n",
       "      <td>403-7458834-1553157</td>\n",
       "      <td>1794296</td>\n",
       "      <td>NEW</td>\n",
       "      <td>Amazon</td>\n",
       "      <td>Noida</td>\n",
       "      <td>Uttar Pradesh</td>\n",
       "      <td>02-04-2017</td>\n",
       "      <td>Amazon:Prepaid</td>\n",
       "      <td>1</td>\n",
       "      <td>0</td>\n",
       "      <td>...</td>\n",
       "      <td>0</td>\n",
       "      <td>0</td>\n",
       "      <td>0</td>\n",
       "      <td>0</td>\n",
       "      <td>0</td>\n",
       "      <td>0</td>\n",
       "      <td>9999</td>\n",
       "      <td>0</td>\n",
       "      <td>False</td>\n",
       "      <td>DELIVERED</td>\n",
       "    </tr>\n",
       "    <tr>\n",
       "      <th>3</th>\n",
       "      <td>403-7472094-3819504</td>\n",
       "      <td>1628030</td>\n",
       "      <td>NEW</td>\n",
       "      <td>Amazon</td>\n",
       "      <td>Hyderabad</td>\n",
       "      <td>Telangana</td>\n",
       "      <td>23-12-2016</td>\n",
       "      <td>Amazon:Prepaid</td>\n",
       "      <td>0</td>\n",
       "      <td>0</td>\n",
       "      <td>...</td>\n",
       "      <td>0</td>\n",
       "      <td>0</td>\n",
       "      <td>1</td>\n",
       "      <td>0</td>\n",
       "      <td>0</td>\n",
       "      <td>0</td>\n",
       "      <td>8999</td>\n",
       "      <td>0</td>\n",
       "      <td>False</td>\n",
       "      <td>CANCELLED</td>\n",
       "    </tr>\n",
       "    <tr>\n",
       "      <th>4</th>\n",
       "      <td>403-7501771-7900324</td>\n",
       "      <td>1922866</td>\n",
       "      <td>NEW</td>\n",
       "      <td>Amazon</td>\n",
       "      <td>Bangalore</td>\n",
       "      <td>Karnataka</td>\n",
       "      <td>21-06-2017</td>\n",
       "      <td>Amazon:Prepaid</td>\n",
       "      <td>0</td>\n",
       "      <td>0</td>\n",
       "      <td>...</td>\n",
       "      <td>0</td>\n",
       "      <td>0</td>\n",
       "      <td>2</td>\n",
       "      <td>0</td>\n",
       "      <td>0</td>\n",
       "      <td>0</td>\n",
       "      <td>7998</td>\n",
       "      <td>0</td>\n",
       "      <td>False</td>\n",
       "      <td>DELIVERED</td>\n",
       "    </tr>\n",
       "  </tbody>\n",
       "</table>\n",
       "<p>5 rows × 24 columns</p>\n",
       "</div>"
      ],
      "text/plain": [
       "            Order_Code  Customer_Id Customer_Type Ordering Channel       City  \\\n",
       "0  403-7383748-7989122      1957066           NEW           Amazon      Noida   \n",
       "1  403-7436571-3457943      1808896           NEW           Amazon  Bangalore   \n",
       "2  403-7458834-1553157      1794296           NEW           Amazon      Noida   \n",
       "3  403-7472094-3819504      1628030           NEW           Amazon  Hyderabad   \n",
       "4  403-7501771-7900324      1922866           NEW           Amazon  Bangalore   \n",
       "\n",
       "           State  Order Date  Payment_Method  No of BEDS Category  \\\n",
       "0  Uttar Pradesh  12-07-2017  Amazon:Prepaid                    0   \n",
       "1      Karnataka  11-04-2017  Amazon:Prepaid                    0   \n",
       "2  Uttar Pradesh  02-04-2017  Amazon:Prepaid                    1   \n",
       "3      Telangana  23-12-2016  Amazon:Prepaid                    0   \n",
       "4      Karnataka  21-06-2017  Amazon:Prepaid                    0   \n",
       "\n",
       "   No of OUTDOOR Categories      ...       No of DINING categories  \\\n",
       "0                         0      ...                             0   \n",
       "1                         0      ...                             3   \n",
       "2                         0      ...                             0   \n",
       "3                         0      ...                             0   \n",
       "4                         0      ...                             0   \n",
       "\n",
       "   No of LIVING ESSENTIALS cateogries  No of STUDY categories  \\\n",
       "0                                   0                       1   \n",
       "1                                   0                       0   \n",
       "2                                   0                       0   \n",
       "3                                   0                       1   \n",
       "4                                   0                       2   \n",
       "\n",
       "   No of WARDROBES categories  No of BEDROOM - OTHERS Categories  \\\n",
       "0                           0                                  0   \n",
       "1                           0                                  0   \n",
       "2                           0                                  0   \n",
       "3                           0                                  0   \n",
       "4                           0                                  0   \n",
       "\n",
       "   No of KIDS categories  Sales Amount  Discount  Pre_Order  Order Status  \n",
       "0                      0          3999         0      False     DELIVERED  \n",
       "1                      0         29997         0      False     DELIVERED  \n",
       "2                      0          9999         0      False     DELIVERED  \n",
       "3                      0          8999         0      False     CANCELLED  \n",
       "4                      0          7998         0      False     DELIVERED  \n",
       "\n",
       "[5 rows x 24 columns]"
      ]
     },
     "execution_count": 144,
     "metadata": {},
     "output_type": "execute_result"
    }
   ],
   "source": [
    "%matplotlib inline\n",
    "import pandas as pd\n",
    "import numpy as np\n",
    "import seaborn as sns\n",
    "import matplotlib.pyplot as plt\n",
    "sns.set()\n",
    "\n",
    "file_path = \"../data/order_cancellation.csv\"\n",
    "df = pd.read_csv(file_path, encoding='iso-8859-1')\n",
    "# df = df.iloc[:,range(2,df.shape[1])]\n",
    "df.head()"
   ]
  },
  {
   "cell_type": "markdown",
   "metadata": {},
   "source": [
    "### Datetime"
   ]
  },
  {
   "cell_type": "code",
   "execution_count": 145,
   "metadata": {},
   "outputs": [],
   "source": [
    "dates = pd.to_datetime(df['Order Date'])"
   ]
  },
  {
   "cell_type": "code",
   "execution_count": 146,
   "metadata": {},
   "outputs": [],
   "source": [
    "df['timestamp'] = dates"
   ]
  },
  {
   "cell_type": "code",
   "execution_count": 147,
   "metadata": {},
   "outputs": [],
   "source": [
    "from datetime import datetime"
   ]
  },
  {
   "cell_type": "code",
   "execution_count": 148,
   "metadata": {},
   "outputs": [],
   "source": [
    "'''\n",
    "Us datetime.strptime(x, \"%Y-%m-%d %H:%M:%S\" ) if x is string,\n",
    "Here I have used\n",
    "'''\n",
    "# mmonthname\n",
    "monthname = {1: 'jan', 2:'feb', 3:'mar', 4:'apr', 5:'may', 6:'jun', \n",
    "             7:'jul', 8:'aug', 9:'sep', 10:'oct', 11:'nov', 12:'dec'}\n",
    "#dec - feb is winter, then spring, summer, fall etc\n",
    "seasons = ['winter','winter','spring','spring','spring','summer','summer','summer','fall','fall','fall','winter']  \n",
    "# sleep: 0-5, 6-9: breakfast, 10-14: lunch, 14-17: dinner prep, 17-21: dinner, 21-23: deserts!\n",
    "times_of_day = [0, 0, 0, 0, 0, 1, 1, 1, 1, 2, 2, 2, 2, 3, 3, 3, 4, 4, 4, 4, 5, 5, 5 ]\n",
    "# night: 20-23, latenight: 0-3, earlymorning: 3-7, morning: 7-11, afternoon: 12-15, evening: 16-20 \n",
    "shine_of_the_day = ['latenight','latenight','latenight', 'latenight'\n",
    "                    'earlymorning','earlymorning','earlymorning', 'earlymorning',\n",
    "                    'morning', 'morning', 'morning', 'morning', 'morning',\n",
    "                    'afternoon', 'afternoon', 'afternoon',\n",
    "                    'evening', 'evening', 'evening', 'evening',\n",
    "                    'night', 'night', 'night', 'night'\n",
    "                   ]\n",
    "parts_of_month = ['first_half', 'second_half']\n",
    "holiday = ['weekday', 'weekend']\n",
    "quarter_name = ['I', 'II', 'III', 'IV']\n",
    "\n",
    "\n",
    "year = lambda x : x.year\n",
    "month = lambda x : x.month\n",
    "month_n = lambda x: monthname[x.month]\n",
    "day_of_week = lambda x: x.weekday()\n",
    "week_number = lambda x: x.strftime('%V')\n",
    "season = lambda x: seasons[x.month - 1]\n",
    "time_of_day = lambda x: times_of_day[x.hour]\n",
    "shine_of_day = lambda x: shine_of_the_day[x.hour]\n",
    "part_of_month = lambda x: x.day//16\n",
    "holiday = lambda x: x.weekday()//5\n",
    "quarterly = lambda x: (x.month -1)//3"
   ]
  },
  {
   "cell_type": "code",
   "execution_count": 149,
   "metadata": {},
   "outputs": [],
   "source": [
    "df['year'] = df['timestamp'].map(year)\n",
    "df['month'] = df['timestamp'].map(month)\n",
    "df['month_name'] = df['timestamp'].map(month_n)\n",
    "df['day_of_week'] = df['timestamp'].map(day_of_week)\n",
    "df['week_number'] = df['timestamp'].map(week_number)\n",
    "df['season'] = df['timestamp'].map(season)\n",
    "df['time_of_day'] = df['timestamp'].map(time_of_day)\n",
    "df['shine_of_day'] = df['timestamp'].map(shine_of_day)\n"
   ]
  },
  {
   "cell_type": "code",
   "execution_count": 150,
   "metadata": {},
   "outputs": [],
   "source": [
    "df['part_of_month'] = df['timestamp'].map(part_of_month)"
   ]
  },
  {
   "cell_type": "code",
   "execution_count": 151,
   "metadata": {},
   "outputs": [],
   "source": [
    "df['holiday'] = df['timestamp'].map(holiday)"
   ]
  },
  {
   "cell_type": "code",
   "execution_count": 152,
   "metadata": {},
   "outputs": [],
   "source": [
    "df['quarter'] = df['timestamp'].map(quarterly)"
   ]
  },
  {
   "cell_type": "code",
   "execution_count": 93,
   "metadata": {},
   "outputs": [
    {
     "name": "stdout",
     "output_type": "stream",
     "text": [
      "2017-11-04 00:00:00 5\n"
     ]
    }
   ],
   "source": [
    "print(dates[1], dates[1].weekday())"
   ]
  },
  {
   "cell_type": "code",
   "execution_count": 34,
   "metadata": {},
   "outputs": [],
   "source": [
    "checklist = ['year', 'month', 'month_name', 'day_of_week', 'week_number', 'season']"
   ]
  },
  {
   "cell_type": "code",
   "execution_count": 36,
   "metadata": {},
   "outputs": [],
   "source": [
    "# for i in checklist:\n",
    "#     print(df[i].value_counts())"
   ]
  },
  {
   "cell_type": "code",
   "execution_count": 96,
   "metadata": {},
   "outputs": [
    {
     "data": {
      "text/plain": [
       "0    104449\n",
       "1     45458\n",
       "Name: holiday, dtype: int64"
      ]
     },
     "execution_count": 96,
     "metadata": {},
     "output_type": "execute_result"
    }
   ],
   "source": [
    "df['holiday'].value_counts()\n",
    "# dates[0].day"
   ]
  },
  {
   "cell_type": "code",
   "execution_count": 83,
   "metadata": {},
   "outputs": [],
   "source": [
    "%matplotlib inline\n",
    "import matplotlib.pyplot as plt\n",
    "import seaborn as sns"
   ]
  },
  {
   "cell_type": "code",
   "execution_count": 84,
   "metadata": {},
   "outputs": [],
   "source": [
    "mn = ['jan', 'feb', 'mar', 'apr', 'may', 'jun', 'jul', 'aug', 'sep', 'oct', 'nov', 'dec']\n"
   ]
  },
  {
   "cell_type": "code",
   "execution_count": 116,
   "metadata": {},
   "outputs": [],
   "source": [
    "def two_vs_three(grpby=None, orderby=None):\n",
    "    asd = df.groupby(grpby)['Sales Amount'].count()\n",
    "    print(asd.head())\n",
    "    asdd = pd.DataFrame(asd)\n",
    "    asddd = asdd.reset_index(inplace=True)\n",
    "    # asdd.dtypes\n",
    "    plt.figure(i, figsize=(15,8))\n",
    "    if orderby is None:\n",
    "        sns.barplot(x=grpby[0], y='Sales Amount', hue=grpby[1], data=asdd)\n",
    "    else:\n",
    "        sns.barplot(x=grpby[0], y='Sales Amount', hue=grpby[1], order=orderby, data=asdd)"
   ]
  },
  {
   "cell_type": "code",
   "execution_count": 122,
   "metadata": {},
   "outputs": [],
   "source": [
    "cols = ['holiday', 'Order Status']\n",
    "two_vs_three(grpby=cols,\n",
    "             orderby=mn\n",
    "            )"
   ]
  },
  {
   "cell_type": "code",
   "execution_count": 143,
   "metadata": {},
   "outputs": [
    {
     "name": "stdout",
     "output_type": "stream",
     "text": [
      "holiday  Customer_Type\n",
      "0        NEW              54518\n",
      "         OLD              49931\n",
      "1        NEW              24793\n",
      "         OLD              20665\n",
      "Name: Sales Amount, dtype: int64\n"
     ]
    },
    {
     "data": {
      "image/png": "[encoded data removed]",
      "text/plain": [
       "<Figure size 1080x576 with 1 Axes>"
      ]
     },
     "metadata": {
      "needs_background": "light"
     },
     "output_type": "display_data"
    }
   ],
   "source": [
    "cols = ['holiday', 'Customer_Type']\n",
    "two_vs_three(grpby=cols,\n",
    "#              orderby=mn\n",
    "            )"
   ]
  },
  {
   "cell_type": "code",
   "execution_count": 142,
   "metadata": {},
   "outputs": [
    {
     "name": "stdout",
     "output_type": "stream",
     "text": [
      "month_name  Customer_Type\n",
      "apr         NEW              6254\n",
      "            OLD              5580\n",
      "aug         NEW              6455\n",
      "            OLD              6024\n",
      "dec         NEW              5504\n",
      "Name: Sales Amount, dtype: int64\n"
     ]
    },
    {
     "data": {
      "image/png": "[encoded data removed]",
      "text/plain": [
       "<Figure size 1080x576 with 1 Axes>"
      ]
     },
     "metadata": {
      "needs_background": "light"
     },
     "output_type": "display_data"
    }
   ],
   "source": [
    "cols = ['month_name', 'Customer_Type']\n",
    "two_vs_three(grpby=cols,\n",
    "             orderby=mn\n",
    "            )"
   ]
  },
  {
   "cell_type": "code",
   "execution_count": 141,
   "metadata": {},
   "outputs": [
    {
     "name": "stdout",
     "output_type": "stream",
     "text": [
      "quarter  Customer_Type\n",
      "0        NEW              18647\n",
      "         OLD              16474\n",
      "1        NEW              20295\n",
      "         OLD              17789\n",
      "2        NEW              19871\n",
      "Name: Sales Amount, dtype: int64\n"
     ]
    },
    {
     "data": {
      "image/png": "[encoded data removed]",
      "text/plain": [
       "<Figure size 1080x576 with 1 Axes>"
      ]
     },
     "metadata": {
      "needs_background": "light"
     },
     "output_type": "display_data"
    }
   ],
   "source": [
    "cols = ['quarter', 'Customer_Type']\n",
    "two_vs_three(grpby=cols,\n",
    "#              orderby=mn\n",
    "            )"
   ]
  },
  {
   "cell_type": "code",
   "execution_count": 140,
   "metadata": {},
   "outputs": [
    {
     "data": {
      "text/plain": [
       "<matplotlib.axes._subplots.AxesSubplot at 0x7f5f18121eb8>"
      ]
     },
     "execution_count": 140,
     "metadata": {},
     "output_type": "execute_result"
    },
    {
     "data": {
      "image/png": "[encoded data removed]",
      "text/plain": [
       "<Figure size 432x288 with 1 Axes>"
      ]
     },
     "metadata": {
      "needs_background": "light"
     },
     "output_type": "display_data"
    }
   ],
   "source": [
    "df['quarter'].value_counts().plot(kind=\"bar\")"
   ]
  },
  {
   "cell_type": "code",
   "execution_count": 153,
   "metadata": {},
   "outputs": [
    {
     "data": {
      "text/plain": [
       "<matplotlib.axes._subplots.AxesSubplot at 0x7f5f1cc78320>"
      ]
     },
     "execution_count": 153,
     "metadata": {},
     "output_type": "execute_result"
    },
    {
     "data": {
      "image/png": "[encoded data removed]",
      "text/plain": [
       "<Figure size 432x288 with 1 Axes>"
      ]
     },
     "metadata": {},
     "output_type": "display_data"
    }
   ],
   "source": [
    "df['year'].value_counts().plot(kind=\"bar\")"
   ]
  },
  {
   "cell_type": "code",
   "execution_count": 154,
   "metadata": {},
   "outputs": [],
   "source": [
    "checklist1 = ['year', 'month', 'month_name', 'day_of_week', 'season', 'quarter', 'part_of_month', 'holiday']"
   ]
  },
  {
   "cell_type": "code",
   "execution_count": 157,
   "metadata": {},
   "outputs": [
    {
     "data": {
      "image/png": "[encoded data removed]",
      "text/plain": [
       "<Figure size 432x288 with 1 Axes>"
      ]
     },
     "metadata": {},
     "output_type": "display_data"
    },
    {
     "data": {
      "image/png": "[encoded data removed]",
      "text/plain": [
       "<Figure size 432x288 with 1 Axes>"
      ]
     },
     "metadata": {},
     "output_type": "display_data"
    },
    {
     "data": {
      "image/png": "[encoded data removed]",
      "text/plain": [
       "<Figure size 432x288 with 1 Axes>"
      ]
     },
     "metadata": {},
     "output_type": "display_data"
    },
    {
     "data": {
      "image/png": "[encoded data removed]",
      "text/plain": [
       "<Figure size 432x288 with 1 Axes>"
      ]
     },
     "metadata": {},
     "output_type": "display_data"
    },
    {
     "data": {
      "image/png": "[encoded data removed]",
      "text/plain": [
       "<Figure size 432x288 with 1 Axes>"
      ]
     },
     "metadata": {},
     "output_type": "display_data"
    },
    {
     "data": {
      "image/png": "[encoded data removed]",
      "text/plain": [
       "<Figure size 432x288 with 1 Axes>"
      ]
     },
     "metadata": {},
     "output_type": "display_data"
    },
    {
     "data": {
      "image/png": "[encoded data removed]",
      "text/plain": [
       "<Figure size 432x288 with 1 Axes>"
      ]
     },
     "metadata": {},
     "output_type": "display_data"
    },
    {
     "data": {
      "image/png": "[encoded data removed]",
      "text/plain": [
       "<Figure size 432x288 with 1 Axes>"
      ]
     },
     "metadata": {},
     "output_type": "display_data"
    }
   ],
   "source": [
    "for i in checklist1:\n",
    "    df[i].value_counts().plot(kind=\"bar\")\n",
    "    plt.show()"
   ]
  },
  {
   "cell_type": "code",
   "execution_count": null,
   "metadata": {},
   "outputs": [],
   "source": []
  },
  {
   "cell_type": "code",
   "execution_count": null,
   "metadata": {},
   "outputs": [],
   "source": []
  }
 ],
 "metadata": {
  "kernelspec": {
   "display_name": "Python 3",
   "language": "python",
   "name": "python3"
  },
  "language_info": {
   "codemirror_mode": {
    "name": "ipython",
    "version": 3
   },
   "file_extension": ".py",
   "mimetype": "text/x-python",
   "name": "python",
   "nbconvert_exporter": "python",
   "pygments_lexer": "ipython3",
   "version": "3.6.6"
  }
 },
 "nbformat": 4,
 "nbformat_minor": 2
}
